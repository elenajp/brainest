{
 "cells": [
  {
   "attachments": {},
   "cell_type": "markdown",
   "metadata": {},
   "source": [
    "1. Write a function that takes a list of integers as an argument, and returns the sum of the integers. Use a try-except block to catch any ValueError exceptions that may be raised when attempting to convert a string to an integer."
   ]
  },
  {
   "cell_type": "code",
   "execution_count": 9,
   "metadata": {},
   "outputs": [
    {
     "data": {
      "text/plain": [
       "45"
      ]
     },
     "execution_count": 9,
     "metadata": {},
     "output_type": "execute_result"
    }
   ],
   "source": [
    "def sum_of_integers(numbers):\n",
    "    \"\"\"Takes a list of intergers and returns the sum of the intergers\"\"\"\n",
    "    for num in numbers:\n",
    "        if not type(num) is not float:\n",
    "            raise ValueError(\"The number must be an interger\")\n",
    "    \n",
    "    return sum(numbers)\n",
    "    \n",
    "\n",
    "sum_of_integers([1, 2, 3, 4, 5, 6, 7, 8, 9])"
   ]
  },
  {
   "attachments": {},
   "cell_type": "markdown",
   "metadata": {},
   "source": [
    "2. Write a function that takes a filename as an argument, and attempts to open the file. Use a try-except block to catch any FileNotFoundError exceptions that may be raised when attempting to open the file. If the file is successfully opened, the function should return the contents of the file."
   ]
  },
  {
   "cell_type": "code",
   "execution_count": 16,
   "metadata": {},
   "outputs": [
    {
     "name": "stdout",
     "output_type": "stream",
     "text": [
      "You are now reading the contents of this file!!!\n"
     ]
    }
   ],
   "source": [
    "def open_file(filename):\n",
    "    \"\"\"Takes a filename as an argument, and attempts to open the file\"\"\"\n",
    "    try:\n",
    "        with open(filename) as file:\n",
    "            contents = file.read()\n",
    "            print(contents)     \n",
    "    except:\n",
    "        raise FileNotFoundError(\"File not found.\")\n",
    "        \n",
    "\n",
    "open_file('my_file.txt')"
   ]
  },
  {
   "attachments": {},
   "cell_type": "markdown",
   "metadata": {},
   "source": [
    "3. Write a function that takes a list of strings as an argument, and returns a new list containing only the strings that can be successfully converted to a float. Use a try-except block to catch any ValueError exceptions that may be raised when attempting to convert a string to a float."
   ]
  },
  {
   "cell_type": "code",
   "execution_count": 28,
   "metadata": {},
   "outputs": [
    {
     "data": {
      "text/plain": [
       "[3.5, 2.1]"
      ]
     },
     "execution_count": 28,
     "metadata": {},
     "output_type": "execute_result"
    }
   ],
   "source": [
    "def string_to_float(list_of_strings):\n",
    "    \"\"\"Takes a list of strings as an argument, and returns a new list containing only the strings that can be successfully converted to a float.\"\"\"\n",
    "    new_list = []\n",
    "    for item in list_of_strings:\n",
    "        try:\n",
    "            f = float(item)\n",
    "            new_list.append(f)           \n",
    "        except ValueError:\n",
    "            pass\n",
    "    \n",
    "    return new_list\n",
    "    \n",
    "\n",
    "list_of_strings = [\"one\", \"two\", \"three\", \"3.5\"]\n",
    "string_to_float(list_of_strings)"
   ]
  },
  {
   "attachments": {},
   "cell_type": "markdown",
   "metadata": {},
   "source": [
    "4. Write a function that takes a list of dictionaries as an argument, and returns the value of a specified key from each dictionary. Use a try-except block to catch any KeyError exceptions that may be raised when attempting to access a key that does not exist in a dictionary."
   ]
  },
  {
   "cell_type": "code",
   "execution_count": 30,
   "metadata": {},
   "outputs": [
    {
     "data": {
      "text/plain": [
       "['Black', 'Brown', 'Green']"
      ]
     },
     "execution_count": 30,
     "metadata": {},
     "output_type": "execute_result"
    }
   ],
   "source": [
    "def key_value(dict_list, key):\n",
    "    \"\"\"Takes a list of dictionaries as an argument, and returns the value of a specified key from each dictionary\"\"\"\n",
    "    dict_values = []\n",
    "    for dictionary in dict_list:\n",
    "        try:\n",
    "            value = dictionary[key] \n",
    "        except KeyError:\n",
    "            value = None\n",
    "        dict_values.append(value)\n",
    "    return dict_values\n",
    "        \n",
    "    \n",
    "\n",
    "dict_list = [{\"Name\": \"John\", \"Surname\": \"Black\"}, {\"Name\": \"Jane\", \"Surname\": \"Brown\"}, {\"Name\": \"Anne\", \"Surname\": \"Green\"}]\n",
    "key_value(dict_list, \"Surname\")    "
   ]
  },
  {
   "attachments": {},
   "cell_type": "markdown",
   "metadata": {},
   "source": [
    "5. Write a function that takes a list of integers as an argument, and returns the largest integer in the list. Use a try-except block to catch any ValueError exceptions that may be raised when attempting to compare elements that are not integers."
   ]
  },
  {
   "cell_type": "code",
   "execution_count": 15,
   "metadata": {},
   "outputs": [
    {
     "name": "stdout",
     "output_type": "stream",
     "text": [
      "4\n"
     ]
    }
   ],
   "source": [
    "def largest_int(int_list):\n",
    "    \"\"\"That takes a list of integers as an argument, and returns the largest integer in the list.\"\"\"\n",
    "    largest = []\n",
    "    for num in int_list:\n",
    "        try:\n",
    "            if type(num) == int:\n",
    "                largest.append(num)\n",
    "            else:\n",
    "                raise ValueError(\"A non-interger was found\")\n",
    "\n",
    "        except ValueError as e:\n",
    "            print(f\"ValueError: {e}\")   \n",
    "    \n",
    "    print(max(largest))    \n",
    "\n",
    "\n",
    "int_list = [1, 2, 3, 4]\n",
    "largest_int(int_list)"
   ]
  }
 ],
 "metadata": {
  "kernelspec": {
   "display_name": "local",
   "language": "python",
   "name": "python3"
  },
  "language_info": {
   "codemirror_mode": {
    "name": "ipython",
    "version": 3
   },
   "file_extension": ".py",
   "mimetype": "text/x-python",
   "name": "python",
   "nbconvert_exporter": "python",
   "pygments_lexer": "ipython3",
   "version": "3.10.6"
  },
  "orig_nbformat": 4,
  "vscode": {
   "interpreter": {
    "hash": "aee8b7b246df8f9039afb4144a1f6fd8d2ca17a180786b69acc140d282b71a49"
   }
  }
 },
 "nbformat": 4,
 "nbformat_minor": 2
}
